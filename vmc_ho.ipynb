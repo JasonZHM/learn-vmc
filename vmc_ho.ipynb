{
 "cells": [
  {
   "cell_type": "code",
   "execution_count": 18,
   "metadata": {},
   "outputs": [],
   "source": [
    "import jax.numpy as jnp\n",
    "import jax\n",
    "import matplotlib.pyplot as plt\n",
    "from functools import partial\n",
    "\n",
    "import optax"
   ]
  },
  {
   "cell_type": "code",
   "execution_count": 19,
   "metadata": {},
   "outputs": [],
   "source": [
    "@jax.jit\n",
    "def log_psi(alpha, x):\n",
    "    log_psi = -alpha * x ** 2 / 2\n",
    "    return log_psi"
   ]
  },
  {
   "cell_type": "code",
   "execution_count": 20,
   "metadata": {},
   "outputs": [],
   "source": [
    "log_prob = jax.jit(lambda alpha, x: 2 * log_psi(alpha, x))"
   ]
  },
  {
   "cell_type": "code",
   "execution_count": 51,
   "metadata": {},
   "outputs": [],
   "source": [
    "def mcmc_step(alpha, key, position, step_size):\n",
    "    \"\"\"\n",
    "    A single step of the Metropolis-Hastings algorithm.\n",
    "    \"\"\"\n",
    "    key, subkey = jax.random.split(key)\n",
    "    # Sample a new position from the proposal distribution\n",
    "    new_position = position + jax.random.normal(subkey, position.shape) * step_size\n",
    "    # Compute the log-probability of the new position\n",
    "    new_log_prob = log_prob(alpha, new_position)\n",
    "    # Compute the log-probability of the old position\n",
    "    old_log_prob = log_prob(alpha, position)\n",
    "    # Compute the log-acceptance ratio\n",
    "    log_acceptance_ratio = new_log_prob - old_log_prob\n",
    "    # Accept or reject the new position\n",
    "    key, subkey = jax.random.split(key)\n",
    "    accept = jnp.log(jax.random.uniform(subkey, (position.shape[0],))) < log_acceptance_ratio\n",
    "    return new_position * accept + position * (1 - accept), key, jnp.sum(accept)/position.shape[0]"
   ]
  },
  {
   "cell_type": "code",
   "execution_count": 23,
   "metadata": {},
   "outputs": [],
   "source": [
    "dlog_psi = jax.jit(jax.grad(log_psi, argnums=(1)))\n",
    "d2log_psi = jax.jit(jax.grad(jax.grad(log_psi, argnums=(1)), argnums=(1)))"
   ]
  },
  {
   "cell_type": "code",
   "execution_count": 24,
   "metadata": {},
   "outputs": [],
   "source": [
    "local_energy = jax.jit(jax.vmap(lambda alpha, x:\n",
    "    -(dlog_psi(alpha, x)**2 + d2log_psi(alpha, x)) / 2 + 1 / 2 * x ** 2, in_axes=(None, 0)))"
   ]
  },
  {
   "cell_type": "code",
   "execution_count": 25,
   "metadata": {},
   "outputs": [],
   "source": [
    "energy = jax.jit(lambda alpha, x: jnp.mean(local_energy(alpha, x)))\n",
    "energy_var = jax.jit(lambda alpha, x: jnp.var(local_energy(alpha, x)))\n",
    "energy_grad = jax.jit(jax.grad(energy, argnums=(0)))"
   ]
  },
  {
   "cell_type": "code",
   "execution_count": 66,
   "metadata": {},
   "outputs": [
    {
     "name": "stdout",
     "output_type": "stream",
     "text": [
      "0 0.62988275\n",
      "1 0.57107294\n",
      "2 0.533632\n",
      "3 0.5097534\n",
      "4 0.50419074\n",
      "5 0.5030281\n",
      "6 0.50034046\n",
      "7 0.49918702\n",
      "8 0.49914968\n",
      "9 0.4966009\n",
      "10 0.5093795\n",
      "11 0.5104819\n",
      "12 0.5053191\n",
      "13 0.50620705\n",
      "14 0.51802486\n",
      "15 0.5153177\n",
      "16 0.50911456\n",
      "17 0.51094496\n",
      "18 0.50321424\n",
      "19 0.5038788\n",
      "20 0.5045793\n",
      "21 0.50650436\n",
      "22 0.50386614\n",
      "23 0.5049409\n",
      "24 0.50297034\n",
      "25 0.50081605\n",
      "26 0.49987727\n",
      "27 0.5003359\n",
      "28 0.49994907\n",
      "29 0.4996459\n"
     ]
    }
   ],
   "source": [
    "key = jax.random.PRNGKey(42)\n",
    "key, subkey = jax.random.split(key)\n",
    "n_walkers = 1000\n",
    "position = jax.random.normal(subkey, (n_walkers,))\n",
    "step_size = 2\n",
    "n_steps = 30\n",
    "burn_in = 1000\n",
    "alpha = 0.5\n",
    "\n",
    "alpha_list = []\n",
    "energy_list = []\n",
    "energy_grad_list = []\n",
    "energy_var_list = []\n",
    "\n",
    "optimizer = optax.adam(1e-1)\n",
    "opt_state = optimizer.init(alpha)\n",
    "\n",
    "for i in range(n_steps):\n",
    "    for j in range(burn_in):\n",
    "        position, key, ac_ratio = mcmc_step(alpha, key, position, step_size)\n",
    "        # print(ac_ratio)\n",
    "    alpha_list.append(alpha)\n",
    "    energy_list.append(energy(alpha, position))\n",
    "    energy_grad_list.append(energy_grad(alpha, position))\n",
    "    energy_var_list.append(energy_var(alpha, position))\n",
    "    updates, opt_state = optimizer.update(energy_grad(alpha, position), opt_state)\n",
    "    alpha = optax.apply_updates(alpha, updates)\n",
    "    print(i, energy(alpha, position))"
   ]
  },
  {
   "cell_type": "code",
   "execution_count": 67,
   "metadata": {},
   "outputs": [
    {
     "data": {
      "image/png": "[encoded data removed]",
      "text/plain": [
       "<Figure size 432x288 with 1 Axes>"
      ]
     },
     "metadata": {
      "needs_background": "light"
     },
     "output_type": "display_data"
    }
   ],
   "source": [
    "plt.plot(alpha_list, label='alpha')\n",
    "plt.plot(energy_list, label='energy')\n",
    "plt.plot(energy_grad_list, label='energy_grad')\n",
    "plt.plot(energy_var_list, label='energy_var')\n",
    "plt.legend()\n",
    "plt.show()"
   ]
  },
  {
   "cell_type": "code",
   "execution_count": null,
   "metadata": {},
   "outputs": [],
   "source": []
  }
 ],
 "metadata": {
  "interpreter": {
   "hash": "6544d7d25989b4294a912322cb1a3d014baeb728b9c72e23e3b8bbf4fa651ef0"
  },
  "kernelspec": {
   "display_name": "Python 3.7.6 64-bit ('base')",
   "language": "python",
   "name": "python3"
  },
  "language_info": {
   "codemirror_mode": {
    "name": "ipython",
    "version": 3
   },
   "file_extension": ".py",
   "mimetype": "text/x-python",
   "name": "python",
   "nbconvert_exporter": "python",
   "pygments_lexer": "ipython3",
   "version": "3.7.6"
  },
  "orig_nbformat": 4
 },
 "nbformat": 4,
 "nbformat_minor": 2
}
