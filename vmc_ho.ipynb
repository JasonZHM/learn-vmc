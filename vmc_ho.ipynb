{
 "cells": [
  {
   "cell_type": "code",
   "execution_count": 100,
   "metadata": {},
   "outputs": [],
   "source": [
    "import jax.numpy as jnp\n",
    "import jax\n",
    "import matplotlib.pyplot as plt\n",
    "from functools import partial"
   ]
  },
  {
   "cell_type": "code",
   "execution_count": 101,
   "metadata": {},
   "outputs": [],
   "source": [
    "@jax.jit\n",
    "def psi(alpha, x):\n",
    "    psi = jnp.exp(-alpha * x ** 2 / 2)\n",
    "    return psi"
   ]
  },
  {
   "cell_type": "code",
   "execution_count": 102,
   "metadata": {},
   "outputs": [],
   "source": [
    "log_prob = jax.jit(lambda alpha, x: 2 * jnp.log(psi(alpha, x)))"
   ]
  },
  {
   "cell_type": "code",
   "execution_count": 103,
   "metadata": {},
   "outputs": [],
   "source": [
    "def mcmc_step(alpha, key, position, step_size):\n",
    "    \"\"\"\n",
    "    A single step of the Metropolis-Hastings algorithm.\n",
    "    \"\"\"\n",
    "    key, subkey = jax.random.split(key)\n",
    "    # Sample a new position from the proposal distribution\n",
    "    new_position = position + jax.random.normal(subkey, position.shape) * step_size\n",
    "    # Compute the log-probability of the new position\n",
    "    new_log_prob = log_prob(alpha, new_position)\n",
    "    # Compute the log-probability of the old position\n",
    "    old_log_prob = log_prob(alpha, position)\n",
    "    # Compute the log-acceptance ratio\n",
    "    log_acceptance_ratio = new_log_prob - old_log_prob\n",
    "    # Accept or reject the new position\n",
    "    key, subkey = jax.random.split(key)\n",
    "    accept = jnp.log(jax.random.uniform(subkey, (position.shape[0],))) < log_acceptance_ratio\n",
    "    return new_position * accept + position * (1 - accept), key"
   ]
  },
  {
   "cell_type": "code",
   "execution_count": 104,
   "metadata": {},
   "outputs": [],
   "source": [
    "d2psi = jax.jit(jax.grad(jax.grad(psi, argnums=(1)), argnums=(1)))"
   ]
  },
  {
   "cell_type": "code",
   "execution_count": 105,
   "metadata": {},
   "outputs": [],
   "source": [
    "local_energy = jax.jit(jax.vmap(lambda alpha, x:\n",
    "    (-d2psi(alpha, x) / 2 + 1 / 2 * x ** 2 * psi(alpha, x)) / psi(alpha, x), in_axes=(None, 0)))"
   ]
  },
  {
   "cell_type": "code",
   "execution_count": 106,
   "metadata": {},
   "outputs": [],
   "source": [
    "energy = jax.jit(lambda alpha, x: jnp.mean(local_energy(alpha, x)))\n",
    "energy_grad = jax.jit(jax.grad(energy, argnums=(0)))"
   ]
  },
  {
   "cell_type": "code",
   "execution_count": 132,
   "metadata": {},
   "outputs": [
    {
     "name": "stdout",
     "output_type": "stream",
     "text": [
      "0 0.6335296\n",
      "1 0.6200141\n",
      "2 0.61365026\n",
      "3 0.5855672\n",
      "4 0.57048255\n",
      "5 0.5964587\n",
      "6 0.53747815\n",
      "7 0.5238823\n",
      "8 0.5672853\n",
      "9 0.53217685\n",
      "10 0.5337672\n",
      "11 0.5085279\n",
      "12 0.5211039\n",
      "13 0.52364653\n",
      "14 0.5193672\n",
      "15 0.50529855\n",
      "16 0.51739633\n",
      "17 0.50546503\n",
      "18 0.50110847\n",
      "19 0.5008582\n",
      "20 0.49848422\n",
      "21 0.4995599\n",
      "22 0.5031116\n",
      "23 0.4965222\n",
      "24 0.49049392\n",
      "25 0.4996927\n",
      "26 0.49838552\n",
      "27 0.50052166\n",
      "28 0.49006712\n",
      "29 0.5033959\n"
     ]
    }
   ],
   "source": [
    "n_walkers = 1000\n",
    "position = jnp.zeros((n_walkers,))\n",
    "step_size = 0.1\n",
    "n_steps = 30\n",
    "burn_in = 10000\n",
    "alpha = 2.0\n",
    "key = jax.random.PRNGKey(42)\n",
    "alpha_list = []\n",
    "energy_list = []\n",
    "energy_grad_list = []\n",
    "for i in range(n_steps):\n",
    "    for j in range(burn_in):\n",
    "        position, key = mcmc_step(alpha, key, position, step_size)\n",
    "    alpha_list.append(alpha)\n",
    "    energy_list.append(energy(alpha, position))\n",
    "    energy_grad_list.append(energy_grad(alpha, position))\n",
    "    alpha -= 5 * jnp.exp(-i/50) * energy_grad(alpha, position)\n",
    "    print(i, energy(alpha, position))"
   ]
  },
  {
   "cell_type": "code",
   "execution_count": 133,
   "metadata": {},
   "outputs": [
    {
     "data": {
      "image/png": "[encoded data removed]",
      "text/plain": [
       "<Figure size 432x288 with 1 Axes>"
      ]
     },
     "metadata": {
      "needs_background": "light"
     },
     "output_type": "display_data"
    }
   ],
   "source": [
    "plt.plot(alpha_list, label='alpha')\n",
    "plt.plot(energy_list, label='energy')\n",
    "plt.plot(energy_grad_list, label='energy_grad')\n",
    "plt.legend()\n",
    "plt.show()"
   ]
  },
  {
   "cell_type": "code",
   "execution_count": null,
   "metadata": {},
   "outputs": [],
   "source": []
  }
 ],
 "metadata": {
  "interpreter": {
   "hash": "6544d7d25989b4294a912322cb1a3d014baeb728b9c72e23e3b8bbf4fa651ef0"
  },
  "kernelspec": {
   "display_name": "Python 3.7.6 64-bit ('base')",
   "language": "python",
   "name": "python3"
  },
  "language_info": {
   "codemirror_mode": {
    "name": "ipython",
    "version": 3
   },
   "file_extension": ".py",
   "mimetype": "text/x-python",
   "name": "python",
   "nbconvert_exporter": "python",
   "pygments_lexer": "ipython3",
   "version": "3.7.6"
  },
  "orig_nbformat": 4
 },
 "nbformat": 4,
 "nbformat_minor": 2
}
